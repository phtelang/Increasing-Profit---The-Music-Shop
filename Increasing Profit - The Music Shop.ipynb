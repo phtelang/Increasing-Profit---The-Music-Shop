{
 "cells": [
  {
   "cell_type": "markdown",
   "metadata": {
    "scrolled": false
   },
   "source": [
    "## Increasing Profit - The Music Shop\n",
    "\n",
    "We will be working with the Chinook database. It contains information about a fictional digital music shop - kind of like a mini-iTunes store.\n",
    "\n",
    "The Chinook database contains information about the artists, songs, and albums from the music shop, as well as information on the shop's employees, customers, and the customers purchases. This information is contained in eleven tables. Like with our Factbook database, a schema diagram will help us understand the available columns and the structure of the data. \n",
    "The database and the schema diagram are available __[here](http://www.sqlitetutorial.net/sqlite-sample-database/)__\n",
    "\n",
    "We will explore below questions which will help business take decisions for:\n",
    "1. Which new albums should be considered for purchase from the US genre to increase profit?\n",
    "2. How are employees performing?\n",
    "3. Which countries have good opportunity for sales?\n",
    "4. Should more albums be purchased instead of individual tracks?\n",
    "5. Which artists are used the most in playlists? Which are the highest selling artists in US?\n",
    "6. How many tracks have been purchased atleast once?\n",
    "7. What is the range of tracks in the store and their sales popularity?\n",
    "8. How does popularity vary for protected vs non-protected media types?\n",
    "\n",
    "\n",
    "### Summary of Results\n",
    "1. Analyzing US genre sales, new albums by Red Tone (Punk), Slim Jim Bites (Blues) and Meteor and the Girls (Pop) should be purchased. Rock and Latin can be considered for future purchases because of high popularity.\n",
    "2. While there is a 20% difference in sales between Jane (the top employee) and Steve (the bottom employee), the difference roughly corresponds with the differences in their hiring dates.\n",
    "3. Czech Republic, USA and India have good opportunity for sales. As the sample size is not large enough to give us high confidence, starting off with small campaigns in these countries, collecting and analyzing the new customers to make sure that these trends hold with new customers would be a good idea.\n",
    "4. Album purchases is recommended instead of purchasing only select tracks from albums.\n",
    "5. Iron Maiden is by far the most popular artist in playlists and has the maximum number of purchases.\n",
    "6. 56.63% of tracks have been purchased at least once.\n",
    "7. The available range of tracks is not closely reflective of popularity. There are more tracks of Latin and Rock music than it can sell. It is recommended to look into the selections of tracks in these particular types as some of the currect selections are not popular with the customer.\n",
    "8. Unprotected media types sell more than protected media types.\n",
    "\n",
    "### Read Data"
   ]
  },
  {
   "cell_type": "code",
   "execution_count": 1,
   "metadata": {},
   "outputs": [],
   "source": [
    "#Import Required Libraries\n",
    "import sqlite3\n",
    "import pandas as pd\n",
    "import numpy as np\n",
    "import matplotlib.pyplot as plt\n",
    "%matplotlib inline"
   ]
  },
  {
   "cell_type": "markdown",
   "metadata": {},
   "source": [
    "### Create Helper Functions\n",
    "We will create three functions in python to save time."
   ]
  },
  {
   "cell_type": "code",
   "execution_count": 2,
   "metadata": {
    "scrolled": false
   },
   "outputs": [],
   "source": [
    "#Location of the database\n",
    "db = \"chinook.db\""
   ]
  },
  {
   "cell_type": "code",
   "execution_count": 3,
   "metadata": {},
   "outputs": [],
   "source": [
    "#Function that takes a SQL query as an argument and returns a pandas dataframe of that query\n",
    "def run_query(q):\n",
    "    with sqlite3.connect(db) as conn:\n",
    "        return pd.read_sql(q, conn)"
   ]
  },
  {
   "cell_type": "code",
   "execution_count": 4,
   "metadata": {},
   "outputs": [],
   "source": [
    "#Function that takes a SQL command as an argument and executes it using the sqlite module\n",
    "def run_command(c):\n",
    "    with sqlite3.connect(db) as conn:\n",
    "        conn.isolation_level = None #SQLite will autocommit any changes\n",
    "        conn.execute(c)"
   ]
  },
  {
   "cell_type": "code",
   "execution_count": 5,
   "metadata": {},
   "outputs": [],
   "source": [
    "#Function thats runs a query to return a list of all tables and views in the database\n",
    "def show_tables():\n",
    "    q = '''SELECT \n",
    "            name,\n",
    "            type\n",
    "         FROM sqlite_master\n",
    "         WHERE type IN (\"table\", \"view\");'''\n",
    "    return run_query(q)"
   ]
  },
  {
   "cell_type": "code",
   "execution_count": 6,
   "metadata": {},
   "outputs": [
    {
     "data": {
      "text/html": [
       "<div>\n",
       "<style scoped>\n",
       "    .dataframe tbody tr th:only-of-type {\n",
       "        vertical-align: middle;\n",
       "    }\n",
       "\n",
       "    .dataframe tbody tr th {\n",
       "        vertical-align: top;\n",
       "    }\n",
       "\n",
       "    .dataframe thead th {\n",
       "        text-align: right;\n",
       "    }\n",
       "</style>\n",
       "<table border=\"1\" class=\"dataframe\">\n",
       "  <thead>\n",
       "    <tr style=\"text-align: right;\">\n",
       "      <th></th>\n",
       "      <th>name</th>\n",
       "      <th>type</th>\n",
       "    </tr>\n",
       "  </thead>\n",
       "  <tbody>\n",
       "    <tr>\n",
       "      <th>0</th>\n",
       "      <td>albums</td>\n",
       "      <td>table</td>\n",
       "    </tr>\n",
       "    <tr>\n",
       "      <th>1</th>\n",
       "      <td>sqlite_sequence</td>\n",
       "      <td>table</td>\n",
       "    </tr>\n",
       "    <tr>\n",
       "      <th>2</th>\n",
       "      <td>artists</td>\n",
       "      <td>table</td>\n",
       "    </tr>\n",
       "    <tr>\n",
       "      <th>3</th>\n",
       "      <td>customers</td>\n",
       "      <td>table</td>\n",
       "    </tr>\n",
       "    <tr>\n",
       "      <th>4</th>\n",
       "      <td>employees</td>\n",
       "      <td>table</td>\n",
       "    </tr>\n",
       "    <tr>\n",
       "      <th>5</th>\n",
       "      <td>genres</td>\n",
       "      <td>table</td>\n",
       "    </tr>\n",
       "    <tr>\n",
       "      <th>6</th>\n",
       "      <td>invoices</td>\n",
       "      <td>table</td>\n",
       "    </tr>\n",
       "    <tr>\n",
       "      <th>7</th>\n",
       "      <td>invoice_items</td>\n",
       "      <td>table</td>\n",
       "    </tr>\n",
       "    <tr>\n",
       "      <th>8</th>\n",
       "      <td>media_types</td>\n",
       "      <td>table</td>\n",
       "    </tr>\n",
       "    <tr>\n",
       "      <th>9</th>\n",
       "      <td>playlists</td>\n",
       "      <td>table</td>\n",
       "    </tr>\n",
       "    <tr>\n",
       "      <th>10</th>\n",
       "      <td>playlist_track</td>\n",
       "      <td>table</td>\n",
       "    </tr>\n",
       "    <tr>\n",
       "      <th>11</th>\n",
       "      <td>tracks</td>\n",
       "      <td>table</td>\n",
       "    </tr>\n",
       "    <tr>\n",
       "      <th>12</th>\n",
       "      <td>sqlite_stat1</td>\n",
       "      <td>table</td>\n",
       "    </tr>\n",
       "  </tbody>\n",
       "</table>\n",
       "</div>"
      ],
      "text/plain": [
       "               name   type\n",
       "0            albums  table\n",
       "1   sqlite_sequence  table\n",
       "2           artists  table\n",
       "3         customers  table\n",
       "4         employees  table\n",
       "5            genres  table\n",
       "6          invoices  table\n",
       "7     invoice_items  table\n",
       "8       media_types  table\n",
       "9         playlists  table\n",
       "10   playlist_track  table\n",
       "11           tracks  table\n",
       "12     sqlite_stat1  table"
      ]
     },
     "execution_count": 6,
     "metadata": {},
     "output_type": "execute_result"
    }
   ],
   "source": [
    "show_tables()"
   ]
  },
  {
   "cell_type": "markdown",
   "metadata": {},
   "source": [
    "### Selecting New Albums to Purchase\n",
    "The Chinook record store has just signed a deal with a new record label, and we have to select the first three albums that will be added to the store, from a list of four. All four albums are by artists that don't have any tracks in the store right now - we have the artist names, and the genre of music they produce:\n",
    "\n",
    "| Artist Name | Genre |\n",
    "| --- | --- |\n",
    "| Regal | Hip-Hop |\n",
    "| Red Tone | Punk |\n",
    "| Meteor and the Girls | Pop |\n",
    "| Slim Jim Bites | Blues |\n",
    "\n",
    "The record label specializes in artists from the USA, and they have given Chinook some money to advertise the new albums in the USA, so we're interested in finding out which genres sell the best in the USA.\n",
    "\n",
    "We need to write a query to find out which genres sell the most tracks in the USA. Looking at the popularity of the tracks sold the most, we can recommend which three albums should be added to the store."
   ]
  },
  {
   "cell_type": "code",
   "execution_count": 7,
   "metadata": {
    "scrolled": true
   },
   "outputs": [
    {
     "data": {
      "text/html": [
       "<div>\n",
       "<style scoped>\n",
       "    .dataframe tbody tr th:only-of-type {\n",
       "        vertical-align: middle;\n",
       "    }\n",
       "\n",
       "    .dataframe tbody tr th {\n",
       "        vertical-align: top;\n",
       "    }\n",
       "\n",
       "    .dataframe thead th {\n",
       "        text-align: right;\n",
       "    }\n",
       "</style>\n",
       "<table border=\"1\" class=\"dataframe\">\n",
       "  <thead>\n",
       "    <tr style=\"text-align: right;\">\n",
       "      <th></th>\n",
       "      <th>genre</th>\n",
       "      <th>tracks_sold</th>\n",
       "      <th>percentage_sold</th>\n",
       "    </tr>\n",
       "  </thead>\n",
       "  <tbody>\n",
       "    <tr>\n",
       "      <th>0</th>\n",
       "      <td>Rock</td>\n",
       "      <td>157</td>\n",
       "      <td>31.78</td>\n",
       "    </tr>\n",
       "    <tr>\n",
       "      <th>1</th>\n",
       "      <td>Latin</td>\n",
       "      <td>91</td>\n",
       "      <td>18.42</td>\n",
       "    </tr>\n",
       "    <tr>\n",
       "      <th>2</th>\n",
       "      <td>Metal</td>\n",
       "      <td>64</td>\n",
       "      <td>12.96</td>\n",
       "    </tr>\n",
       "    <tr>\n",
       "      <th>3</th>\n",
       "      <td>Alternative &amp; Punk</td>\n",
       "      <td>50</td>\n",
       "      <td>10.12</td>\n",
       "    </tr>\n",
       "    <tr>\n",
       "      <th>4</th>\n",
       "      <td>Jazz</td>\n",
       "      <td>22</td>\n",
       "      <td>4.45</td>\n",
       "    </tr>\n",
       "    <tr>\n",
       "      <th>5</th>\n",
       "      <td>Blues</td>\n",
       "      <td>15</td>\n",
       "      <td>3.04</td>\n",
       "    </tr>\n",
       "    <tr>\n",
       "      <th>6</th>\n",
       "      <td>TV Shows</td>\n",
       "      <td>14</td>\n",
       "      <td>2.83</td>\n",
       "    </tr>\n",
       "    <tr>\n",
       "      <th>7</th>\n",
       "      <td>R&amp;B/Soul</td>\n",
       "      <td>12</td>\n",
       "      <td>2.43</td>\n",
       "    </tr>\n",
       "    <tr>\n",
       "      <th>8</th>\n",
       "      <td>Classical</td>\n",
       "      <td>8</td>\n",
       "      <td>1.62</td>\n",
       "    </tr>\n",
       "    <tr>\n",
       "      <th>9</th>\n",
       "      <td>Comedy</td>\n",
       "      <td>8</td>\n",
       "      <td>1.62</td>\n",
       "    </tr>\n",
       "    <tr>\n",
       "      <th>10</th>\n",
       "      <td>Bossa Nova</td>\n",
       "      <td>7</td>\n",
       "      <td>1.42</td>\n",
       "    </tr>\n",
       "    <tr>\n",
       "      <th>11</th>\n",
       "      <td>Drama</td>\n",
       "      <td>6</td>\n",
       "      <td>1.21</td>\n",
       "    </tr>\n",
       "    <tr>\n",
       "      <th>12</th>\n",
       "      <td>Reggae</td>\n",
       "      <td>6</td>\n",
       "      <td>1.21</td>\n",
       "    </tr>\n",
       "    <tr>\n",
       "      <th>13</th>\n",
       "      <td>Alternative</td>\n",
       "      <td>5</td>\n",
       "      <td>1.01</td>\n",
       "    </tr>\n",
       "    <tr>\n",
       "      <th>14</th>\n",
       "      <td>Pop</td>\n",
       "      <td>5</td>\n",
       "      <td>1.01</td>\n",
       "    </tr>\n",
       "    <tr>\n",
       "      <th>15</th>\n",
       "      <td>Sci Fi &amp; Fantasy</td>\n",
       "      <td>5</td>\n",
       "      <td>1.01</td>\n",
       "    </tr>\n",
       "    <tr>\n",
       "      <th>16</th>\n",
       "      <td>Heavy Metal</td>\n",
       "      <td>4</td>\n",
       "      <td>0.81</td>\n",
       "    </tr>\n",
       "    <tr>\n",
       "      <th>17</th>\n",
       "      <td>Hip Hop/Rap</td>\n",
       "      <td>4</td>\n",
       "      <td>0.81</td>\n",
       "    </tr>\n",
       "    <tr>\n",
       "      <th>18</th>\n",
       "      <td>Soundtrack</td>\n",
       "      <td>4</td>\n",
       "      <td>0.81</td>\n",
       "    </tr>\n",
       "    <tr>\n",
       "      <th>19</th>\n",
       "      <td>Easy Listening</td>\n",
       "      <td>3</td>\n",
       "      <td>0.61</td>\n",
       "    </tr>\n",
       "    <tr>\n",
       "      <th>20</th>\n",
       "      <td>Rock And Roll</td>\n",
       "      <td>3</td>\n",
       "      <td>0.61</td>\n",
       "    </tr>\n",
       "    <tr>\n",
       "      <th>21</th>\n",
       "      <td>Science Fiction</td>\n",
       "      <td>1</td>\n",
       "      <td>0.20</td>\n",
       "    </tr>\n",
       "  </tbody>\n",
       "</table>\n",
       "</div>"
      ],
      "text/plain": [
       "                 genre  tracks_sold  percentage_sold\n",
       "0                 Rock          157            31.78\n",
       "1                Latin           91            18.42\n",
       "2                Metal           64            12.96\n",
       "3   Alternative & Punk           50            10.12\n",
       "4                 Jazz           22             4.45\n",
       "5                Blues           15             3.04\n",
       "6             TV Shows           14             2.83\n",
       "7             R&B/Soul           12             2.43\n",
       "8            Classical            8             1.62\n",
       "9               Comedy            8             1.62\n",
       "10          Bossa Nova            7             1.42\n",
       "11               Drama            6             1.21\n",
       "12              Reggae            6             1.21\n",
       "13         Alternative            5             1.01\n",
       "14                 Pop            5             1.01\n",
       "15    Sci Fi & Fantasy            5             1.01\n",
       "16         Heavy Metal            4             0.81\n",
       "17         Hip Hop/Rap            4             0.81\n",
       "18          Soundtrack            4             0.81\n",
       "19      Easy Listening            3             0.61\n",
       "20       Rock And Roll            3             0.61\n",
       "21     Science Fiction            1             0.20"
      ]
     },
     "execution_count": 7,
     "metadata": {},
     "output_type": "execute_result"
    }
   ],
   "source": [
    "#Each genre with the number of tracks sold in the USA: in absolute numbers and in percentages\n",
    "genre_tracks_sold = '''WITH cust_USA AS\n",
    "(\n",
    "SELECT * FROM invoice_items il \n",
    "            INNER JOIN invoices i ON il.invoiceid = i.invoiceid\n",
    "            INNER JOIN customers c ON i.customerid = c.customerid\n",
    "            WHERE c.country = \"USA\"\n",
    ")\n",
    "SELECT \n",
    "    g.name genre, \n",
    "    SUM(cust.quantity) tracks_sold, \n",
    "    ROUND(CAST(SUM(cust.quantity) as FLOAT) / (select count(*) FROM cust_USA) * 100, 2) percentage_sold\n",
    "FROM cust_USA cust\n",
    "    INNER JOIN tracks t ON cust.trackid = t.trackid\n",
    "    INNER JOIN genres g ON t.genreid = g.genreid\n",
    "GROUP BY 1\n",
    "ORDER BY 2 DESC\n",
    "'''\n",
    "run_query(genre_tracks_sold)"
   ]
  },
  {
   "cell_type": "code",
   "execution_count": 8,
   "metadata": {
    "scrolled": true
   },
   "outputs": [
    {
     "data": {
      "image/png": "[encoded data removed]",
      "text/plain": [
       "<Figure size 432x576 with 1 Axes>"
      ]
     },
     "metadata": {
      "needs_background": "light"
     },
     "output_type": "display_data"
    }
   ],
   "source": [
    "genre_sales_usa = run_query(genre_tracks_sold)\n",
    "genre_sales_usa.set_index(\"genre\",drop=True,inplace=True)\n",
    "\n",
    "#Plot data using a bar plot\n",
    "ax = genre_sales_usa.plot(kind = 'barh', y = \"tracks_sold\", figsize = (6,8), title = 'TOTAL GENRES SOLD IN USA', legend = False)\n",
    "for p in ax.patches:\n",
    "    ax.annotate(str(p.get_width()), (p.get_x() + p.get_width(), p.get_y()), xytext=(2, 3), textcoords='offset points')\n",
    "    "
   ]
  },
  {
   "cell_type": "markdown",
   "metadata": {},
   "source": [
    "Based on the sales of tracks across different genres in the USA, we should purchase the new albums by the following artists:\n",
    "\n",
    "1. Red Tone (Punk)\n",
    "2. Slim Jim Bites (Blues)\n",
    "3. Meteor and the Girls (Pop)\n",
    "\n",
    "Even though the above three generes account for around 14%, we can suggest considering Rock or Latin generes in the future as they seem to be very popular.\n",
    "\n",
    "### Analyzing Employee Sales Performance\n",
    "Each customer for the Chinook store gets assigned to a sales support agent within the company when they first make a purchase. We have to analyze the purchases of customers belonging to each employee to see if any sales support agent is performing either better or worse than the others."
   ]
  },
  {
   "cell_type": "code",
   "execution_count": 9,
   "metadata": {
    "scrolled": false
   },
   "outputs": [
    {
     "data": {
      "text/html": [
       "<div>\n",
       "<style scoped>\n",
       "    .dataframe tbody tr th:only-of-type {\n",
       "        vertical-align: middle;\n",
       "    }\n",
       "\n",
       "    .dataframe tbody tr th {\n",
       "        vertical-align: top;\n",
       "    }\n",
       "\n",
       "    .dataframe thead th {\n",
       "        text-align: right;\n",
       "    }\n",
       "</style>\n",
       "<table border=\"1\" class=\"dataframe\">\n",
       "  <thead>\n",
       "    <tr style=\"text-align: right;\">\n",
       "      <th></th>\n",
       "      <th>HireDate</th>\n",
       "      <th>Emp_name</th>\n",
       "      <th>Sale</th>\n",
       "    </tr>\n",
       "  </thead>\n",
       "  <tbody>\n",
       "    <tr>\n",
       "      <th>0</th>\n",
       "      <td>2003-10-17 00:00:00</td>\n",
       "      <td>Steve Johnson</td>\n",
       "      <td>720.16</td>\n",
       "    </tr>\n",
       "    <tr>\n",
       "      <th>1</th>\n",
       "      <td>2003-05-03 00:00:00</td>\n",
       "      <td>Margaret Park</td>\n",
       "      <td>775.40</td>\n",
       "    </tr>\n",
       "    <tr>\n",
       "      <th>2</th>\n",
       "      <td>2002-04-01 00:00:00</td>\n",
       "      <td>Jane Peacock</td>\n",
       "      <td>833.04</td>\n",
       "    </tr>\n",
       "  </tbody>\n",
       "</table>\n",
       "</div>"
      ],
      "text/plain": [
       "              HireDate       Emp_name    Sale\n",
       "0  2003-10-17 00:00:00  Steve Johnson  720.16\n",
       "1  2003-05-03 00:00:00  Margaret Park  775.40\n",
       "2  2002-04-01 00:00:00   Jane Peacock  833.04"
      ]
     },
     "execution_count": 9,
     "metadata": {},
     "output_type": "execute_result"
    }
   ],
   "source": [
    "#Total dollar amount of sales assigned to each sales support agent within the company \n",
    "agent_sale = '''SELECT e.hiredate, e.firstname || \" \" || e.lastname Emp_name, SUM(i.total) Sale\n",
    "FROM employees e \n",
    "    LEFT JOIN customers c ON e.employeeid = c.supportrepid\n",
    "    INNER JOIN invoices i ON c.customerid = i.customerid\n",
    "GROUP BY 1,2\n",
    "ORDER BY 2 DESC'''\n",
    "run_query(agent_sale)"
   ]
  },
  {
   "cell_type": "code",
   "execution_count": 10,
   "metadata": {
    "scrolled": false
   },
   "outputs": [
    {
     "data": {
      "image/png": "[encoded data removed]",
      "text/plain": [
       "<Figure size 432x288 with 1 Axes>"
      ]
     },
     "metadata": {
      "needs_background": "light"
     },
     "output_type": "display_data"
    }
   ],
   "source": [
    "emp_sale = run_query(agent_sale)\n",
    "emp_sale.set_index(\"Emp_name\",drop=True,inplace=True)\n",
    "\n",
    "#Plot data using a bar plot\n",
    "ax = emp_sale.plot(kind = 'barh', y = 'Sale', title = 'SALES BREAKDOWN BY EMPLOYEES', legend = False)    "
   ]
  },
  {
   "cell_type": "markdown",
   "metadata": {},
   "source": [
    "While there is a 20% difference in sales between Jane (the top employee) and Steve (the bottom employee), the difference roughly corresponds with the differences in their hiring dates.\n",
    "\n",
    "### Analyzing Sales by Country\n",
    "We need to collate data on purchases from different countries. For each country, include:\n",
    "1. total number of customers\n",
    "2. total value of sales\n",
    "3. average value of sales per customer\n",
    "4. average order value"
   ]
  },
  {
   "cell_type": "code",
   "execution_count": 11,
   "metadata": {
    "scrolled": false
   },
   "outputs": [
    {
     "data": {
      "text/html": [
       "<div>\n",
       "<style scoped>\n",
       "    .dataframe tbody tr th:only-of-type {\n",
       "        vertical-align: middle;\n",
       "    }\n",
       "\n",
       "    .dataframe tbody tr th {\n",
       "        vertical-align: top;\n",
       "    }\n",
       "\n",
       "    .dataframe thead th {\n",
       "        text-align: right;\n",
       "    }\n",
       "</style>\n",
       "<table border=\"1\" class=\"dataframe\">\n",
       "  <thead>\n",
       "    <tr style=\"text-align: right;\">\n",
       "      <th></th>\n",
       "      <th>country</th>\n",
       "      <th>total_customers</th>\n",
       "      <th>total_value_of_sales</th>\n",
       "      <th>avg_sales_per_cust</th>\n",
       "    </tr>\n",
       "  </thead>\n",
       "  <tbody>\n",
       "    <tr>\n",
       "      <th>0</th>\n",
       "      <td>USA</td>\n",
       "      <td>91</td>\n",
       "      <td>523.06</td>\n",
       "      <td>5.747912</td>\n",
       "    </tr>\n",
       "    <tr>\n",
       "      <th>1</th>\n",
       "      <td>Canada</td>\n",
       "      <td>56</td>\n",
       "      <td>303.96</td>\n",
       "      <td>5.427857</td>\n",
       "    </tr>\n",
       "    <tr>\n",
       "      <th>2</th>\n",
       "      <td>Brazil</td>\n",
       "      <td>35</td>\n",
       "      <td>190.10</td>\n",
       "      <td>5.431429</td>\n",
       "    </tr>\n",
       "    <tr>\n",
       "      <th>3</th>\n",
       "      <td>France</td>\n",
       "      <td>35</td>\n",
       "      <td>195.10</td>\n",
       "      <td>5.574286</td>\n",
       "    </tr>\n",
       "    <tr>\n",
       "      <th>4</th>\n",
       "      <td>Germany</td>\n",
       "      <td>28</td>\n",
       "      <td>156.48</td>\n",
       "      <td>5.588571</td>\n",
       "    </tr>\n",
       "    <tr>\n",
       "      <th>5</th>\n",
       "      <td>United Kingdom</td>\n",
       "      <td>21</td>\n",
       "      <td>112.86</td>\n",
       "      <td>5.374286</td>\n",
       "    </tr>\n",
       "    <tr>\n",
       "      <th>6</th>\n",
       "      <td>Czech Republic</td>\n",
       "      <td>14</td>\n",
       "      <td>90.24</td>\n",
       "      <td>6.445714</td>\n",
       "    </tr>\n",
       "    <tr>\n",
       "      <th>7</th>\n",
       "      <td>Portugal</td>\n",
       "      <td>14</td>\n",
       "      <td>77.24</td>\n",
       "      <td>5.517143</td>\n",
       "    </tr>\n",
       "    <tr>\n",
       "      <th>8</th>\n",
       "      <td>India</td>\n",
       "      <td>13</td>\n",
       "      <td>75.26</td>\n",
       "      <td>5.789231</td>\n",
       "    </tr>\n",
       "    <tr>\n",
       "      <th>9</th>\n",
       "      <td>Other</td>\n",
       "      <td>105</td>\n",
       "      <td>604.30</td>\n",
       "      <td>5.755238</td>\n",
       "    </tr>\n",
       "  </tbody>\n",
       "</table>\n",
       "</div>"
      ],
      "text/plain": [
       "          country  total_customers  total_value_of_sales  avg_sales_per_cust\n",
       "0             USA               91                523.06            5.747912\n",
       "1          Canada               56                303.96            5.427857\n",
       "2          Brazil               35                190.10            5.431429\n",
       "3          France               35                195.10            5.574286\n",
       "4         Germany               28                156.48            5.588571\n",
       "5  United Kingdom               21                112.86            5.374286\n",
       "6  Czech Republic               14                 90.24            6.445714\n",
       "7        Portugal               14                 77.24            5.517143\n",
       "8           India               13                 75.26            5.789231\n",
       "9           Other              105                604.30            5.755238"
      ]
     },
     "execution_count": 11,
     "metadata": {},
     "output_type": "execute_result"
    }
   ],
   "source": [
    "#Total and average sales for each country\n",
    "country_wise_sales = '''WITH cust_country_sales AS\n",
    "(\n",
    "SELECT CASE WHEN\n",
    "    (SELECT count(*) from customers where country = c.country) = 1 THEN 'Other' else c.country END as country,\n",
    "    c.customerid, i.*\n",
    "FROM customers c \n",
    "    INNER JOIN invoices i ON c.customerid = i.customerid\n",
    ")\n",
    "\n",
    "SELECT \n",
    "country,\n",
    "total_customers,\n",
    "total_value_of_sales,\n",
    "avg_sales_per_cust\n",
    "FROM\n",
    "(SELECT \n",
    "    cust.country country,\n",
    "    count(*) total_customers,\n",
    "    SUM(cust.total) total_value_of_sales,\n",
    "    SUM(cust.total) / count(cust.customerid) avg_sales_per_cust,\n",
    "    CASE\n",
    "        WHEN cust.country = \"Other\" THEN 1\n",
    "        ELSE 0\n",
    "    END AS sort\n",
    "FROM cust_country_sales cust\n",
    "GROUP BY 1\n",
    "ORDER BY sort ASC, total_customers DESC)'''\n",
    "\n",
    "run_query(country_wise_sales)"
   ]
  },
  {
   "cell_type": "code",
   "execution_count": 12,
   "metadata": {},
   "outputs": [],
   "source": [
    "country_sales = run_query(country_wise_sales)\n",
    "country_sales.set_index(\"country\", drop=True, inplace=True)"
   ]
  },
  {
   "cell_type": "code",
   "execution_count": 13,
   "metadata": {
    "scrolled": true
   },
   "outputs": [
    {
     "data": {
      "text/plain": [
       "<matplotlib.axes._subplots.AxesSubplot at 0x29a6d9d86d8>"
      ]
     },
     "execution_count": 13,
     "metadata": {},
     "output_type": "execute_result"
    },
    {
     "data": {
      "image/png": "[encoded data removed]",
      "text/plain": [
       "<Figure size 1152x504 with 3 Axes>"
      ]
     },
     "metadata": {
      "needs_background": "light"
     },
     "output_type": "display_data"
    }
   ],
   "source": [
    "#Plot data\n",
    "fig, axes = plt.subplots(1,3, figsize = (16,7))\n",
    "plt.subplots_adjust(hspace = 0.2)\n",
    "country_sales.plot(kind = 'pie', y = 'total_value_of_sales', ax = axes[0], legend = False)\n",
    "country_sales.plot(kind = 'bar', y = ['total_customers', 'total_value_of_sales'], ax = axes[1])\n",
    "\n",
    "avg_order = country_sales[\"avg_sales_per_cust\"].copy()\n",
    "avg_order.index.name = ''\n",
    "difference_from_avg = avg_order * 100 / avg_order.mean() - 100\n",
    "difference_from_avg.drop(\"Other\", inplace=True)\n",
    "difference_from_avg.plot(kind='bar', ax=axes[2], title=\"Average Order,\\nPct Difference from Mean\")"
   ]
  },
  {
   "cell_type": "markdown",
   "metadata": {},
   "source": [
    "Based on the data, there may be opportunity in the following countries:\n",
    "1. Czech Republic\n",
    "2. USA\n",
    "3. India\n",
    "\n",
    "It's worth keeping in mind that because the amount of data from each of these countries is relatively low. Because of this, we should be cautious spending too much money on new marketing campaigns, as the sample size is not large enough to give us high confidence. A better approach would be to run small campaigns in these countries, collecting and analyzing the new customers to make sure that these trends hold with new customers."
   ]
  },
  {
   "cell_type": "markdown",
   "metadata": {},
   "source": [
    "### Albums vs Individual Tracks\n",
    "The Chinook store is setup in a way that allows customer to make purchases in one of the two ways:\n",
    "1. purchase a whole album\n",
    "2. purchase a collection of one or more individual tracks.\n",
    "\n",
    "The store does not let customers purchase a whole album, and then add individual tracks to that same purchase (unless they do that by choosing each track manually). When customers purchase albums they are charged the same price as if they had purchased each of those tracks separately.\n",
    "\n",
    "Management are currently considering changing their purchasing strategy to save money. The strategy they are considering is to purchase only the most popular tracks from each album from record companies, instead of purchasing every track from an album.\n",
    "\n",
    "We have to find out what percentage of purchases are individual tracks vs whole albums, so that management can use this data to understand the effect this decision might have on overall revenue."
   ]
  },
  {
   "cell_type": "code",
   "execution_count": 14,
   "metadata": {
    "scrolled": true
   },
   "outputs": [
    {
     "data": {
      "text/html": [
       "<div>\n",
       "<style scoped>\n",
       "    .dataframe tbody tr th:only-of-type {\n",
       "        vertical-align: middle;\n",
       "    }\n",
       "\n",
       "    .dataframe tbody tr th {\n",
       "        vertical-align: top;\n",
       "    }\n",
       "\n",
       "    .dataframe thead th {\n",
       "        text-align: right;\n",
       "    }\n",
       "</style>\n",
       "<table border=\"1\" class=\"dataframe\">\n",
       "  <thead>\n",
       "    <tr style=\"text-align: right;\">\n",
       "      <th></th>\n",
       "      <th>album_purchase</th>\n",
       "      <th>number_of_invoices</th>\n",
       "      <th>percent</th>\n",
       "    </tr>\n",
       "  </thead>\n",
       "  <tbody>\n",
       "    <tr>\n",
       "      <th>0</th>\n",
       "      <td>no</td>\n",
       "      <td>410</td>\n",
       "      <td>0.995146</td>\n",
       "    </tr>\n",
       "    <tr>\n",
       "      <th>1</th>\n",
       "      <td>yes</td>\n",
       "      <td>2</td>\n",
       "      <td>0.004854</td>\n",
       "    </tr>\n",
       "  </tbody>\n",
       "</table>\n",
       "</div>"
      ],
      "text/plain": [
       "  album_purchase  number_of_invoices   percent\n",
       "0             no                 410  0.995146\n",
       "1            yes                   2  0.004854"
      ]
     },
     "execution_count": 14,
     "metadata": {},
     "output_type": "execute_result"
    }
   ],
   "source": [
    "#Categorize each invoice as either an album purchase or not, and calculate Number of invoices and Percentage of invoices\n",
    "album_invoice = '''WITH invoice_first_track AS\n",
    "    (\n",
    "     SELECT\n",
    "         il.invoiceid invoice_id,\n",
    "         MIN(il.trackid) first_track_id\n",
    "     FROM invoice_items il\n",
    "     GROUP BY 1\n",
    "    )\n",
    "\n",
    "SELECT\n",
    "    album_purchase,\n",
    "    COUNT(invoice_id) number_of_invoices,\n",
    "    CAST(count(invoice_id) AS FLOAT) / (\n",
    "                                         SELECT COUNT(*) FROM invoices\n",
    "                                      ) percent\n",
    "FROM\n",
    "    (\n",
    "    SELECT\n",
    "        ifs.*,\n",
    "        CASE\n",
    "            WHEN\n",
    "                 (\n",
    "                  SELECT t.trackid FROM tracks t\n",
    "                  WHERE t.albumid = (\n",
    "                                      SELECT t2.albumid FROM tracks t2\n",
    "                                      WHERE t2.trackid = ifs.first_track_id\n",
    "                                     ) \n",
    "\n",
    "                  EXCEPT \n",
    "\n",
    "                  SELECT il2.trackid FROM invoice_items il2\n",
    "                  WHERE il2.invoiceid = ifs.invoice_id\n",
    "                 ) IS NULL\n",
    "             AND\n",
    "                 (\n",
    "                  SELECT il2.trackid FROM invoice_items il2\n",
    "                  WHERE il2.invoiceid = ifs.invoice_id\n",
    "\n",
    "                  EXCEPT \n",
    "\n",
    "                  SELECT t.trackid FROM tracks t\n",
    "                  WHERE t.albumid = (\n",
    "                                      SELECT t2.albumid FROM tracks t2\n",
    "                                      WHERE t2.trackid = ifs.first_track_id\n",
    "                                     ) \n",
    "                 ) IS NULL\n",
    "             THEN \"yes\"\n",
    "             ELSE \"no\"\n",
    "         END AS \"album_purchase\"\n",
    "     FROM invoice_first_track ifs\n",
    "    )\n",
    "GROUP BY album_purchase; '''\n",
    "\n",
    "run_query(album_invoice)"
   ]
  },
  {
   "cell_type": "markdown",
   "metadata": {},
   "source": [
    "Album purchases account for 0.4% of purchases. Based on this data, I would recommend against purchasing only select tracks from albums from record companies, since there is potential to lose one fifth of revenue."
   ]
  },
  {
   "cell_type": "markdown",
   "metadata": {},
   "source": [
    "### Top 10 Artists most Popular in Playlists\n",
    "Which artists are used the most in playlists? "
   ]
  },
  {
   "cell_type": "code",
   "execution_count": 15,
   "metadata": {
    "scrolled": true
   },
   "outputs": [
    {
     "data": {
      "text/html": [
       "<div>\n",
       "<style scoped>\n",
       "    .dataframe tbody tr th:only-of-type {\n",
       "        vertical-align: middle;\n",
       "    }\n",
       "\n",
       "    .dataframe tbody tr th {\n",
       "        vertical-align: top;\n",
       "    }\n",
       "\n",
       "    .dataframe thead th {\n",
       "        text-align: right;\n",
       "    }\n",
       "</style>\n",
       "<table border=\"1\" class=\"dataframe\">\n",
       "  <thead>\n",
       "    <tr style=\"text-align: right;\">\n",
       "      <th></th>\n",
       "      <th>artist</th>\n",
       "      <th>num_of_playlists</th>\n",
       "    </tr>\n",
       "  </thead>\n",
       "  <tbody>\n",
       "    <tr>\n",
       "      <th>0</th>\n",
       "      <td>Iron Maiden</td>\n",
       "      <td>516</td>\n",
       "    </tr>\n",
       "    <tr>\n",
       "      <th>1</th>\n",
       "      <td>U2</td>\n",
       "      <td>333</td>\n",
       "    </tr>\n",
       "    <tr>\n",
       "      <th>2</th>\n",
       "      <td>Metallica</td>\n",
       "      <td>296</td>\n",
       "    </tr>\n",
       "    <tr>\n",
       "      <th>3</th>\n",
       "      <td>Led Zeppelin</td>\n",
       "      <td>252</td>\n",
       "    </tr>\n",
       "    <tr>\n",
       "      <th>4</th>\n",
       "      <td>Deep Purple</td>\n",
       "      <td>226</td>\n",
       "    </tr>\n",
       "    <tr>\n",
       "      <th>5</th>\n",
       "      <td>Lost</td>\n",
       "      <td>184</td>\n",
       "    </tr>\n",
       "    <tr>\n",
       "      <th>6</th>\n",
       "      <td>Pearl Jam</td>\n",
       "      <td>177</td>\n",
       "    </tr>\n",
       "    <tr>\n",
       "      <th>7</th>\n",
       "      <td>Eric Clapton</td>\n",
       "      <td>145</td>\n",
       "    </tr>\n",
       "    <tr>\n",
       "      <th>8</th>\n",
       "      <td>Faith No More</td>\n",
       "      <td>145</td>\n",
       "    </tr>\n",
       "    <tr>\n",
       "      <th>9</th>\n",
       "      <td>Lenny Kravitz</td>\n",
       "      <td>143</td>\n",
       "    </tr>\n",
       "  </tbody>\n",
       "</table>\n",
       "</div>"
      ],
      "text/plain": [
       "          artist  num_of_playlists\n",
       "0    Iron Maiden               516\n",
       "1             U2               333\n",
       "2      Metallica               296\n",
       "3   Led Zeppelin               252\n",
       "4    Deep Purple               226\n",
       "5           Lost               184\n",
       "6      Pearl Jam               177\n",
       "7   Eric Clapton               145\n",
       "8  Faith No More               145\n",
       "9  Lenny Kravitz               143"
      ]
     },
     "execution_count": 15,
     "metadata": {},
     "output_type": "execute_result"
    }
   ],
   "source": [
    "artists_playlist_count = '''WITH artists_tracks AS\n",
    "(\n",
    "SELECT p.name, t.trackid, t.albumid FROM tracks t \n",
    "            INNER JOIN playlist_track pt ON t.trackid = pt.trackid\n",
    "            INNER JOIN playlists p ON pt.playlistid = p.playlistid\n",
    ")\n",
    "SELECT \n",
    "    a.name artist,\n",
    "    count(at.name) num_of_playlists\n",
    "    FROM artists_tracks at\n",
    "    INNER JOIN albums ab ON at.albumid = ab.albumid\n",
    "    INNER JOIN artists a ON ab.artistid = a.artistid\n",
    "    GROUP BY 1\n",
    "    ORDER BY 2 DESC LIMIT 10'''\n",
    "run_query(artists_playlist_count)"
   ]
  },
  {
   "cell_type": "markdown",
   "metadata": {},
   "source": [
    "Iron Maiden is by far the most popular artist in playlists."
   ]
  },
  {
   "cell_type": "code",
   "execution_count": 16,
   "metadata": {
    "scrolled": true
   },
   "outputs": [
    {
     "data": {
      "image/png": "[encoded data removed]",
      "text/plain": [
       "<Figure size 576x432 with 1 Axes>"
      ]
     },
     "metadata": {
      "needs_background": "light"
     },
     "output_type": "display_data"
    }
   ],
   "source": [
    "top_10_artists_in_playlists = run_query(artists_playlist_count)\n",
    "top_10_artists_in_playlists.set_index(\"artist\",drop=True,inplace=True)\n",
    "\n",
    "#Plot data using a bar plot\n",
    "ax = top_10_artists_in_playlists.plot(kind = 'bar', figsize = (8,6), title = 'POPULAR ARTISTS IN PLAYLISTS', legend = False)"
   ]
  },
  {
   "cell_type": "markdown",
   "metadata": {},
   "source": [
    "### Top 10 Highest Selling Artists in US\n",
    "Which are the highest selling artists in US?"
   ]
  },
  {
   "cell_type": "code",
   "execution_count": 17,
   "metadata": {
    "scrolled": false
   },
   "outputs": [
    {
     "data": {
      "text/html": [
       "<div>\n",
       "<style scoped>\n",
       "    .dataframe tbody tr th:only-of-type {\n",
       "        vertical-align: middle;\n",
       "    }\n",
       "\n",
       "    .dataframe tbody tr th {\n",
       "        vertical-align: top;\n",
       "    }\n",
       "\n",
       "    .dataframe thead th {\n",
       "        text-align: right;\n",
       "    }\n",
       "</style>\n",
       "<table border=\"1\" class=\"dataframe\">\n",
       "  <thead>\n",
       "    <tr style=\"text-align: right;\">\n",
       "      <th></th>\n",
       "      <th>artist</th>\n",
       "      <th>num_of_purchases</th>\n",
       "    </tr>\n",
       "  </thead>\n",
       "  <tbody>\n",
       "    <tr>\n",
       "      <th>0</th>\n",
       "      <td>Iron Maiden</td>\n",
       "      <td>140</td>\n",
       "    </tr>\n",
       "    <tr>\n",
       "      <th>1</th>\n",
       "      <td>U2</td>\n",
       "      <td>107</td>\n",
       "    </tr>\n",
       "    <tr>\n",
       "      <th>2</th>\n",
       "      <td>Metallica</td>\n",
       "      <td>91</td>\n",
       "    </tr>\n",
       "    <tr>\n",
       "      <th>3</th>\n",
       "      <td>Led Zeppelin</td>\n",
       "      <td>87</td>\n",
       "    </tr>\n",
       "    <tr>\n",
       "      <th>4</th>\n",
       "      <td>Os Paralamas Do Sucesso</td>\n",
       "      <td>45</td>\n",
       "    </tr>\n",
       "    <tr>\n",
       "      <th>5</th>\n",
       "      <td>Deep Purple</td>\n",
       "      <td>44</td>\n",
       "    </tr>\n",
       "    <tr>\n",
       "      <th>6</th>\n",
       "      <td>Faith No More</td>\n",
       "      <td>42</td>\n",
       "    </tr>\n",
       "    <tr>\n",
       "      <th>7</th>\n",
       "      <td>Lost</td>\n",
       "      <td>41</td>\n",
       "    </tr>\n",
       "    <tr>\n",
       "      <th>8</th>\n",
       "      <td>Eric Clapton</td>\n",
       "      <td>40</td>\n",
       "    </tr>\n",
       "    <tr>\n",
       "      <th>9</th>\n",
       "      <td>R.E.M.</td>\n",
       "      <td>39</td>\n",
       "    </tr>\n",
       "  </tbody>\n",
       "</table>\n",
       "</div>"
      ],
      "text/plain": [
       "                    artist  num_of_purchases\n",
       "0              Iron Maiden               140\n",
       "1                       U2               107\n",
       "2                Metallica                91\n",
       "3             Led Zeppelin                87\n",
       "4  Os Paralamas Do Sucesso                45\n",
       "5              Deep Purple                44\n",
       "6            Faith No More                42\n",
       "7                     Lost                41\n",
       "8             Eric Clapton                40\n",
       "9                   R.E.M.                39"
      ]
     },
     "execution_count": 17,
     "metadata": {},
     "output_type": "execute_result"
    }
   ],
   "source": [
    "artists_sale = '''WITH artists_invoice AS\n",
    "(\n",
    "SELECT a.name, i.trackid, i.invoiceid, i.invoicelineid FROM tracks t \n",
    "            INNER JOIN invoice_items i ON t.trackid = i.trackid\n",
    "            INNER JOIN albums ab ON t.albumid = ab.albumid\n",
    "            INNER JOIN artists a ON ab.artistid = a.artistid\n",
    ")\n",
    "SELECT \n",
    "    ai.name artist,\n",
    "    count(*) num_of_purchases\n",
    "    FROM artists_invoice ai\n",
    "    GROUP BY 1\n",
    "    ORDER BY 2 DESC LIMIT 10'''\n",
    "run_query(artists_sale)"
   ]
  },
  {
   "cell_type": "code",
   "execution_count": 18,
   "metadata": {
    "scrolled": true
   },
   "outputs": [
    {
     "data": {
      "image/png": "[encoded data removed]",
      "text/plain": [
       "<Figure size 720x576 with 1 Axes>"
      ]
     },
     "metadata": {
      "needs_background": "light"
     },
     "output_type": "display_data"
    }
   ],
   "source": [
    "top_10_artists_sale = run_query(artists_sale)\n",
    "top_10_artists_sale.set_index(\"artist\",drop=True,inplace=True)\n",
    "\n",
    "#Plot data using a bar plot\n",
    "ax = top_10_artists_sale.plot(kind = 'bar', figsize = (10,8), title = 'TOP 10 HIGHEST SELLING ARTISTS', legend = False)"
   ]
  },
  {
   "cell_type": "markdown",
   "metadata": {},
   "source": [
    "Iron Maiden has 140 purchaces with a considerable difference between the second highest selling artist U2 with 107 albums."
   ]
  },
  {
   "cell_type": "markdown",
   "metadata": {},
   "source": [
    "### Tracks purchased vs. not purchased\n",
    "How many tracks have been purchased atleast once?"
   ]
  },
  {
   "cell_type": "code",
   "execution_count": 19,
   "metadata": {
    "scrolled": true
   },
   "outputs": [
    {
     "name": "stdout",
     "output_type": "stream",
     "text": [
      "56.63716814159292 % of tracks have been purchased at least once.\n"
     ]
    }
   ],
   "source": [
    "track_purchase = '''WITH track_invoice AS\n",
    "(\n",
    "SELECT t.trackid,\n",
    "    count(i.invoiceid) tracks_purchased\n",
    "    FROM tracks t\n",
    "    LEFT JOIN invoice_items i ON t.trackid = i.trackid\n",
    "    GROUP BY 1\n",
    ")\n",
    "SELECT ti.trackid, \n",
    "       CASE WHEN ti.tracks_purchased = 0 \n",
    "           THEN 0\n",
    "           ELSE 1\n",
    "        END purchased\n",
    "       FROM track_invoice ti'''\n",
    "tracks_invoice = run_query(track_purchase)\n",
    "p = tracks_invoice['purchased'].sum()/len(tracks_invoice['trackid'])\n",
    "print(p*100,\"% of tracks have been purchased at least once.\")"
   ]
  },
  {
   "cell_type": "markdown",
   "metadata": {},
   "source": [
    "### Range of Tracks In the Store and Their Sales Popularity\n",
    "What is the range of tracks in the store and their sales popularity?"
   ]
  },
  {
   "cell_type": "code",
   "execution_count": 20,
   "metadata": {
    "scrolled": true
   },
   "outputs": [
    {
     "data": {
      "text/html": [
       "<div>\n",
       "<style scoped>\n",
       "    .dataframe tbody tr th:only-of-type {\n",
       "        vertical-align: middle;\n",
       "    }\n",
       "\n",
       "    .dataframe tbody tr th {\n",
       "        vertical-align: top;\n",
       "    }\n",
       "\n",
       "    .dataframe thead th {\n",
       "        text-align: right;\n",
       "    }\n",
       "</style>\n",
       "<table border=\"1\" class=\"dataframe\">\n",
       "  <thead>\n",
       "    <tr style=\"text-align: right;\">\n",
       "      <th></th>\n",
       "      <th>name</th>\n",
       "      <th>tracks_sold</th>\n",
       "      <th>tracks_available</th>\n",
       "      <th>availability</th>\n",
       "    </tr>\n",
       "  </thead>\n",
       "  <tbody>\n",
       "    <tr>\n",
       "      <th>0</th>\n",
       "      <td>Alternative</td>\n",
       "      <td>14</td>\n",
       "      <td>40</td>\n",
       "      <td>26</td>\n",
       "    </tr>\n",
       "    <tr>\n",
       "      <th>1</th>\n",
       "      <td>Alternative &amp; Punk</td>\n",
       "      <td>244</td>\n",
       "      <td>373</td>\n",
       "      <td>129</td>\n",
       "    </tr>\n",
       "    <tr>\n",
       "      <th>2</th>\n",
       "      <td>Blues</td>\n",
       "      <td>61</td>\n",
       "      <td>89</td>\n",
       "      <td>28</td>\n",
       "    </tr>\n",
       "    <tr>\n",
       "      <th>3</th>\n",
       "      <td>Bossa Nova</td>\n",
       "      <td>15</td>\n",
       "      <td>16</td>\n",
       "      <td>1</td>\n",
       "    </tr>\n",
       "    <tr>\n",
       "      <th>4</th>\n",
       "      <td>Classical</td>\n",
       "      <td>41</td>\n",
       "      <td>79</td>\n",
       "      <td>38</td>\n",
       "    </tr>\n",
       "    <tr>\n",
       "      <th>5</th>\n",
       "      <td>Comedy</td>\n",
       "      <td>9</td>\n",
       "      <td>18</td>\n",
       "      <td>9</td>\n",
       "    </tr>\n",
       "    <tr>\n",
       "      <th>6</th>\n",
       "      <td>Drama</td>\n",
       "      <td>29</td>\n",
       "      <td>66</td>\n",
       "      <td>37</td>\n",
       "    </tr>\n",
       "    <tr>\n",
       "      <th>7</th>\n",
       "      <td>Easy Listening</td>\n",
       "      <td>10</td>\n",
       "      <td>24</td>\n",
       "      <td>14</td>\n",
       "    </tr>\n",
       "    <tr>\n",
       "      <th>8</th>\n",
       "      <td>Electronica/Dance</td>\n",
       "      <td>12</td>\n",
       "      <td>31</td>\n",
       "      <td>19</td>\n",
       "    </tr>\n",
       "    <tr>\n",
       "      <th>9</th>\n",
       "      <td>Heavy Metal</td>\n",
       "      <td>12</td>\n",
       "      <td>28</td>\n",
       "      <td>16</td>\n",
       "    </tr>\n",
       "    <tr>\n",
       "      <th>10</th>\n",
       "      <td>Hip Hop/Rap</td>\n",
       "      <td>17</td>\n",
       "      <td>37</td>\n",
       "      <td>20</td>\n",
       "    </tr>\n",
       "    <tr>\n",
       "      <th>11</th>\n",
       "      <td>Jazz</td>\n",
       "      <td>80</td>\n",
       "      <td>142</td>\n",
       "      <td>62</td>\n",
       "    </tr>\n",
       "    <tr>\n",
       "      <th>12</th>\n",
       "      <td>Latin</td>\n",
       "      <td>386</td>\n",
       "      <td>625</td>\n",
       "      <td>239</td>\n",
       "    </tr>\n",
       "    <tr>\n",
       "      <th>13</th>\n",
       "      <td>Metal</td>\n",
       "      <td>264</td>\n",
       "      <td>407</td>\n",
       "      <td>143</td>\n",
       "    </tr>\n",
       "    <tr>\n",
       "      <th>14</th>\n",
       "      <td>Opera</td>\n",
       "      <td>0</td>\n",
       "      <td>1</td>\n",
       "      <td>1</td>\n",
       "    </tr>\n",
       "    <tr>\n",
       "      <th>15</th>\n",
       "      <td>Pop</td>\n",
       "      <td>28</td>\n",
       "      <td>50</td>\n",
       "      <td>22</td>\n",
       "    </tr>\n",
       "    <tr>\n",
       "      <th>16</th>\n",
       "      <td>R&amp;B/Soul</td>\n",
       "      <td>41</td>\n",
       "      <td>65</td>\n",
       "      <td>24</td>\n",
       "    </tr>\n",
       "    <tr>\n",
       "      <th>17</th>\n",
       "      <td>Reggae</td>\n",
       "      <td>30</td>\n",
       "      <td>60</td>\n",
       "      <td>30</td>\n",
       "    </tr>\n",
       "    <tr>\n",
       "      <th>18</th>\n",
       "      <td>Rock</td>\n",
       "      <td>835</td>\n",
       "      <td>1387</td>\n",
       "      <td>552</td>\n",
       "    </tr>\n",
       "    <tr>\n",
       "      <th>19</th>\n",
       "      <td>Rock And Roll</td>\n",
       "      <td>6</td>\n",
       "      <td>12</td>\n",
       "      <td>6</td>\n",
       "    </tr>\n",
       "    <tr>\n",
       "      <th>20</th>\n",
       "      <td>Sci Fi &amp; Fantasy</td>\n",
       "      <td>20</td>\n",
       "      <td>26</td>\n",
       "      <td>6</td>\n",
       "    </tr>\n",
       "    <tr>\n",
       "      <th>21</th>\n",
       "      <td>Science Fiction</td>\n",
       "      <td>6</td>\n",
       "      <td>14</td>\n",
       "      <td>8</td>\n",
       "    </tr>\n",
       "    <tr>\n",
       "      <th>22</th>\n",
       "      <td>Soundtrack</td>\n",
       "      <td>20</td>\n",
       "      <td>44</td>\n",
       "      <td>24</td>\n",
       "    </tr>\n",
       "    <tr>\n",
       "      <th>23</th>\n",
       "      <td>TV Shows</td>\n",
       "      <td>47</td>\n",
       "      <td>97</td>\n",
       "      <td>50</td>\n",
       "    </tr>\n",
       "    <tr>\n",
       "      <th>24</th>\n",
       "      <td>World</td>\n",
       "      <td>13</td>\n",
       "      <td>28</td>\n",
       "      <td>15</td>\n",
       "    </tr>\n",
       "  </tbody>\n",
       "</table>\n",
       "</div>"
      ],
      "text/plain": [
       "                  name  tracks_sold  tracks_available  availability\n",
       "0          Alternative           14                40            26\n",
       "1   Alternative & Punk          244               373           129\n",
       "2                Blues           61                89            28\n",
       "3           Bossa Nova           15                16             1\n",
       "4            Classical           41                79            38\n",
       "5               Comedy            9                18             9\n",
       "6                Drama           29                66            37\n",
       "7       Easy Listening           10                24            14\n",
       "8    Electronica/Dance           12                31            19\n",
       "9          Heavy Metal           12                28            16\n",
       "10         Hip Hop/Rap           17                37            20\n",
       "11                Jazz           80               142            62\n",
       "12               Latin          386               625           239\n",
       "13               Metal          264               407           143\n",
       "14               Opera            0                 1             1\n",
       "15                 Pop           28                50            22\n",
       "16            R&B/Soul           41                65            24\n",
       "17              Reggae           30                60            30\n",
       "18                Rock          835              1387           552\n",
       "19       Rock And Roll            6                12             6\n",
       "20    Sci Fi & Fantasy           20                26             6\n",
       "21     Science Fiction            6                14             8\n",
       "22          Soundtrack           20                44            24\n",
       "23            TV Shows           47                97            50\n",
       "24               World           13                28            15"
      ]
     },
     "execution_count": 20,
     "metadata": {},
     "output_type": "execute_result"
    }
   ],
   "source": [
    "track_sales = '''WITH tracks_sold AS\n",
    "(\n",
    "SELECT g.name,  \n",
    "       i.invoiceid,\n",
    "       t.trackid\n",
    "       FROM genres g \n",
    "       LEFT JOIN tracks t ON g.genreid = t.genreid\n",
    "       LEFT JOIN invoice_items i ON t.trackid = i.trackid\n",
    ")\n",
    "SELECT ts.name, \n",
    "       count(ts.invoiceid) tracks_sold,\n",
    "       count(ts.trackid) tracks_available,\n",
    "       count(ts.trackid) - count(ts.invoiceid) availability\n",
    "       FROM tracks_sold ts\n",
    "       GROUP BY 1'''\n",
    "\n",
    "run_query(track_sales)"
   ]
  },
  {
   "cell_type": "code",
   "execution_count": 21,
   "metadata": {
    "scrolled": false
   },
   "outputs": [
    {
     "data": {
      "image/png": "[encoded data removed]",
      "text/plain": [
       "<Figure size 288x432 with 1 Axes>"
      ]
     },
     "metadata": {
      "needs_background": "light"
     },
     "output_type": "display_data"
    }
   ],
   "source": [
    "tracks_sold_df = run_query(track_sales)\n",
    "tracks_sold_df.set_index(\"name\",drop=True,inplace=True)\n",
    "\n",
    "#Plot data using a bar plot\n",
    "ax = tracks_sold_df.plot(kind = 'barH', y = 'availability', figsize = (4,6), title = 'DIFFERENCE BETWEEN AVAILABILITY AND SALE OF TRACKS', legend = False)\n"
   ]
  },
  {
   "cell_type": "markdown",
   "metadata": {},
   "source": [
    "Higher is the difference, more is the deficit between demand and supply for track of that genre. The result shows the range of the tracks is not closely reflective of popularity. For example, there are more tracks of Latin and Rock music than it can sell. It is recommended to look into the selections of tracks in these particular types as some of the currect selections are not popular with the customer."
   ]
  },
  {
   "cell_type": "markdown",
   "metadata": {},
   "source": [
    "### Protected vs Non-protected Media Types and Popularity\n",
    "How does popularity vary for protected vs non-protected media types?"
   ]
  },
  {
   "cell_type": "code",
   "execution_count": 22,
   "metadata": {
    "scrolled": true
   },
   "outputs": [
    {
     "data": {
      "text/html": [
       "<div>\n",
       "<style scoped>\n",
       "    .dataframe tbody tr th:only-of-type {\n",
       "        vertical-align: middle;\n",
       "    }\n",
       "\n",
       "    .dataframe tbody tr th {\n",
       "        vertical-align: top;\n",
       "    }\n",
       "\n",
       "    .dataframe thead th {\n",
       "        text-align: right;\n",
       "    }\n",
       "</style>\n",
       "<table border=\"1\" class=\"dataframe\">\n",
       "  <thead>\n",
       "    <tr style=\"text-align: right;\">\n",
       "      <th></th>\n",
       "      <th>protected</th>\n",
       "      <th>count</th>\n",
       "    </tr>\n",
       "  </thead>\n",
       "  <tbody>\n",
       "    <tr>\n",
       "      <th>0</th>\n",
       "      <td>0</td>\n",
       "      <td>1983</td>\n",
       "    </tr>\n",
       "    <tr>\n",
       "      <th>1</th>\n",
       "      <td>1</td>\n",
       "      <td>257</td>\n",
       "    </tr>\n",
       "  </tbody>\n",
       "</table>\n",
       "</div>"
      ],
      "text/plain": [
       "   protected  count\n",
       "0          0   1983\n",
       "1          1    257"
      ]
     },
     "execution_count": 22,
     "metadata": {},
     "output_type": "execute_result"
    }
   ],
   "source": [
    "media_types_popularity = '''WITH track_media_sale AS\n",
    "(\n",
    "SELECT i.invoiceid,\n",
    "       t.name,\n",
    "       CASE\n",
    "         WHEN mt.name LIKE '%protected%' THEN 1\n",
    "         ELSE 0\n",
    "     END AS protected\n",
    "       FROM invoice_items i\n",
    "       INNER JOIN tracks t ON i.trackid = t.trackid\n",
    "       INNER JOIN media_types mt ON t.mediatypeid = mt.mediatypeid\n",
    ")\n",
    "SELECT tms.protected,\n",
    "        count(tms.invoiceid) as count\n",
    "        FROM track_media_sale tms\n",
    "        GROUP BY 1'''\n",
    "run_query(media_types_popularity)"
   ]
  },
  {
   "cell_type": "markdown",
   "metadata": {},
   "source": [
    "Unprotected media types sell more than protected media types."
   ]
  },
  {
   "cell_type": "markdown",
   "metadata": {},
   "source": [
    "### Conclusion\n",
    "We worked on answering different business quesion and found that:\n",
    "\n",
    "1. Analyzing US genre sales, new albums by Red Tone (Punk), Slim Jim Bites (Blues) and Meteor and the Girls (Pop) should be purchased. Rock and Latin can be considered for future purchases because of high popularity.\n",
    "2. While there is a 20% difference in sales between Jane (the top employee) and Steve (the bottom employee), the difference roughly corresponds with the differences in their hiring dates.\n",
    "3. Czech Republic, USA and India have good opportunity for sales. As the sample size is not large enough to give us high confidence, starting off with small campaigns in these countries, collecting and analyzing the new customers to make sure that these trends hold with new customers would be a good idea.\n",
    "4. Album purchases is recommended instead of purchasing only select tracks from albums.\n",
    "5. Iron Maiden is by far the most popular artist in playlists and has the maximum number of purchases.\n",
    "6. 56.63% of tracks have been purchased at least once.\n",
    "7. The available range of tracks is not closely reflective of popularity. There are more tracks of Latin and Rock music than it can sell. It is recommended to look into the selections of tracks in these particular types as some of the currect selections are not popular with the customer.\n",
    "8. Unprotected media types sell more than protected media types."
   ]
  }
 ],
 "metadata": {
  "kernelspec": {
   "display_name": "Python 3",
   "language": "python",
   "name": "python3"
  },
  "language_info": {
   "codemirror_mode": {
    "name": "ipython",
    "version": 3
   },
   "file_extension": ".py",
   "mimetype": "text/x-python",
   "name": "python",
   "nbconvert_exporter": "python",
   "pygments_lexer": "ipython3",
   "version": "3.7.3"
  }
 },
 "nbformat": 4,
 "nbformat_minor": 2
}
